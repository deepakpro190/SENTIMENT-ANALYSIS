{
 "cells": [
  {
   "cell_type": "code",
   "execution_count": 2,
   "id": "25df61cc-c1fb-4024-bc1e-2bfdd73a0add",
   "metadata": {},
   "outputs": [
    {
     "data": {
      "text/plain": [
       "('roberta\\\\tokenizer_config.json',\n",
       " 'roberta\\\\special_tokens_map.json',\n",
       " 'roberta\\\\vocab.json',\n",
       " 'roberta\\\\merges.txt',\n",
       " 'roberta\\\\added_tokens.json',\n",
       " 'roberta\\\\tokenizer.json')"
      ]
     },
     "execution_count": 2,
     "metadata": {},
     "output_type": "execute_result"
    }
   ],
   "source": [
    "from transformers import AutoModelForSequenceClassification, AutoTokenizer\n",
    "\n",
    "MODEL_DIR = \"roberta\"  # Change this to your model directory\n",
    "\n",
    "# Load the fine-tuned model\n",
    "model = AutoModelForSequenceClassification.from_pretrained(MODEL_DIR)\n",
    "tokenizer = AutoTokenizer.from_pretrained(MODEL_DIR)\n",
    "\n",
    "# Save the model and tokenizer\n",
    "model.save_pretrained(MODEL_DIR, safe_serialization=False)\n",
    "tokenizer.save_pretrained(MODEL_DIR)\n"
   ]
  },
  {
   "cell_type": "code",
   "execution_count": 3,
   "id": "8eb61d17-0d7d-42bf-87cd-26484116ebd1",
   "metadata": {},
   "outputs": [
    {
     "name": "stderr",
     "output_type": "stream",
     "text": [
      "model.safetensors: 100%|████████████████████████████████████████████████████████████| 499M/499M [02:33<00:00, 3.24MB/s]\n",
      "C:\\Users\\dell\\anaconda3\\envs\\sentiment_env\\lib\\site-packages\\huggingface_hub\\file_download.py:142: UserWarning: `huggingface_hub` cache-system uses symlinks by default to efficiently store duplicated files but your machine does not support them in C:\\Users\\dell\\.cache\\huggingface\\hub\\models--deepakpro190--sentiment-analysis-roberta. Caching files will still work but in a degraded version that might require more space on your disk. This warning can be disabled by setting the `HF_HUB_DISABLE_SYMLINKS_WARNING` environment variable. For more details, see https://huggingface.co/docs/huggingface_hub/how-to-cache#limitations.\n",
      "To support symlinks on Windows, you either need to activate Developer Mode or to run Python as an administrator. In order to activate developer mode, see this article: https://docs.microsoft.com/en-us/windows/apps/get-started/enable-your-device-for-development\n",
      "  warnings.warn(message)\n"
     ]
    },
    {
     "data": {
      "text/plain": [
       "CommitInfo(commit_url='https://huggingface.co/deepakpro190/sentiment-analysis-roberta/commit/f6a3b45c184241ae4e21364cd966ed37090ae680', commit_message='Upload tokenizer', commit_description='', oid='f6a3b45c184241ae4e21364cd966ed37090ae680', pr_url=None, repo_url=RepoUrl('https://huggingface.co/deepakpro190/sentiment-analysis-roberta', endpoint='https://huggingface.co', repo_type='model', repo_id='deepakpro190/sentiment-analysis-roberta'), pr_revision=None, pr_num=None)"
      ]
     },
     "execution_count": 3,
     "metadata": {},
     "output_type": "execute_result"
    }
   ],
   "source": [
    "from huggingface_hub import HfApi\n",
    "\n",
    "repo_id = \"deepakpro190/sentiment-analysis-roberta\"  # Change this to your Hugging Face repo name\n",
    "\n",
    "# Push model and tokenizer to your existing repo\n",
    "model.push_to_hub(repo_id)\n",
    "tokenizer.push_to_hub(repo_id)\n"
   ]
  },
  {
   "cell_type": "code",
   "execution_count": null,
   "id": "61d52f91-bad5-4a57-8e8d-c271c68e6b74",
   "metadata": {},
   "outputs": [],
   "source": []
  }
 ],
 "metadata": {
  "kernelspec": {
   "display_name": "Python 3 (ipykernel)",
   "language": "python",
   "name": "python3"
  },
  "language_info": {
   "codemirror_mode": {
    "name": "ipython",
    "version": 3
   },
   "file_extension": ".py",
   "mimetype": "text/x-python",
   "name": "python",
   "nbconvert_exporter": "python",
   "pygments_lexer": "ipython3",
   "version": "3.9.21"
  }
 },
 "nbformat": 4,
 "nbformat_minor": 5
}
