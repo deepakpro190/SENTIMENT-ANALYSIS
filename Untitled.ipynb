{
 "cells": [
  {
   "cell_type": "code",
   "execution_count": 2,
   "id": "f93ae9e9-4b4f-428e-bd00-2ab41bdbc092",
   "metadata": {},
   "outputs": [
    {
     "data": {
      "text/plain": [
       "['Output file downloaded to C:\\\\Users\\\\dell\\\\projects\\\\movie_reviews\\\\weight.hdf5',\n",
       " 'Kernel log downloaded to C:\\\\Users\\\\dell\\\\projects\\\\movie_reviews\\\\imdb-movie-review-nlp-lstm-with-dnn.log ']"
      ]
     },
     "execution_count": 2,
     "metadata": {},
     "output_type": "execute_result"
    }
   ],
   "source": [
    "!!kaggle kernels output rivals16/imdb-movie-review-nlp-lstm-with-dnn "
   ]
  },
  {
   "cell_type": "code",
   "execution_count": null,
   "id": "6fb078b0-5e79-437a-9c08-07844dca589b",
   "metadata": {},
   "outputs": [],
   "source": []
  }
 ],
 "metadata": {
  "kernelspec": {
   "display_name": "Python 3 (ipykernel)",
   "language": "python",
   "name": "python3"
  },
  "language_info": {
   "codemirror_mode": {
    "name": "ipython",
    "version": 3
   },
   "file_extension": ".py",
   "mimetype": "text/x-python",
   "name": "python",
   "nbconvert_exporter": "python",
   "pygments_lexer": "ipython3",
   "version": "3.8.20"
  }
 },
 "nbformat": 4,
 "nbformat_minor": 5
}
